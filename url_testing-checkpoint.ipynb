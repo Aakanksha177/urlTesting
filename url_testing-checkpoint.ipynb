{
 "cells": [
  {
   "cell_type": "code",
   "execution_count": 41,
   "id": "25da01b4",
   "metadata": {},
   "outputs": [],
   "source": [
    "import pandas as pd\n",
    "import numpy as np\n",
    "\n",
    "data = pd.read_excel('url_testing.xlsx',header=None)"
   ]
  },
  {
   "cell_type": "code",
   "execution_count": 42,
   "id": "8728071b",
   "metadata": {},
   "outputs": [
    {
     "data": {
      "text/plain": [
       "0        https://lakeshore.nextdoorphotos.com/\n",
       "1       https://grandrapids.nextdoorphotos.com\n",
       "2     https://oaklandcounty.nextdoorphotos.com\n",
       "3        https://naperville.nextdoorphotos.com\n",
       "4          https://michiana.nextdoorphotos.com\n",
       "                        ...                   \n",
       "60                   denver.nextdoorphotos.com\n",
       "61               charleston.nextdoorphotos.com\n",
       "62                fortworth.nextdoorphotos.com\n",
       "63               twincities.nextdoorphotos.com\n",
       "64                northwest.nextdoorphotos.com\n",
       "Name: 0, Length: 65, dtype: object"
      ]
     },
     "execution_count": 42,
     "metadata": {},
     "output_type": "execute_result"
    }
   ],
   "source": [
    "data[0]"
   ]
  },
  {
   "cell_type": "code",
   "execution_count": 43,
   "id": "49b3436b",
   "metadata": {},
   "outputs": [],
   "source": [
    "data['Status'] = np.nan"
   ]
  },
  {
   "cell_type": "code",
   "execution_count": 44,
   "id": "5cbe20ec",
   "metadata": {},
   "outputs": [
    {
     "name": "stdout",
     "output_type": "stream",
     "text": [
      "https://lakeshore.nextdoorphotos.com/\n",
      "https://grandrapids.nextdoorphotos.com\n",
      "https://oaklandcounty.nextdoorphotos.com\n",
      "https://naperville.nextdoorphotos.com\n",
      "https://michiana.nextdoorphotos.com\n",
      "https://a2wayne.nextdoorphotos.com\n",
      "https://noco.nextdoorphotos.com\n",
      "https://spacecoast.nextdoorphotos.com\n",
      "https://macomb.nextdoorphotos.com\n",
      "https://kanecounty.nextdoorphotos.com\n",
      "https://livingstonlansing.nextdoorphotos.com\n",
      "https://northtampa.nextdoorphotos.com\n",
      "https://contracosta.nextdoorphotos.com\n",
      "https://kzoo.nextdoorphotos.com\n",
      "northeastcharlotte.nextdoorphotos.com\n",
      "indynorth.nextdoorphotos.com\n",
      "traversecity.nextdoorphotos.com\n",
      "denverwest.nextdoorphotos.com\n",
      "birmingham.nextdoorphotos.com\n",
      "omaha.nextdoorphotos.com\n",
      "houstonwest.nextdoorphotos.com\n",
      "atlantasouth.nextdoorphotos.com\n",
      "https://ottawaeast.nextdoorphotos.com/\n",
      "https://orlandonorth.nextdoorphotos.com/our-team/\n",
      "https://atlantaeast.nextdoorphotos.com\n",
      "denversouth.nextdoorphotos.com\n",
      "toronto.nextdoorphotos.com\n",
      "alamedacounty.nextdoorphotos.com\n",
      "fredericksburg.nextdoorphotos.com\n",
      "raleigh.nextdoorphotos.com\n",
      "southshore.nextdoorphotos.com\n",
      "kc.nextdoorphotos.com\n",
      "greatlakesbay.nextdoorphotos.com\n",
      "mrytlebeach.nextdoorphotos.com\n",
      "susquehannavalley@nextdoorphotos.com\n",
      "goldsborofayetteville.nextdoorphotos.com\n",
      "dallassouth.nextdoorphotos.com\n",
      "woodlands.nextdoorphotos.com\n",
      "kanecounty.nextdoorphotos.com\n",
      "cincinnatiwest@nextdoorphotos.com\n",
      "nashvillesw.nextdoorphotos.com\n",
      "fortmyers.nextdoorphotos.com\n",
      "capecoral.nextdoorphotos.com\n",
      "virginiabeach.nextdoorphotos.com\n",
      "simivalley.nextdoorphotos.com\n",
      "seattle.nextdoorphotos.com\n",
      "dallasnorth.nextdoorphotos.com\n",
      "gilbert.nextdoorphotos.com\n",
      "traversecity.nextdoorphotos.com\n",
      "dorchester.nextdoorphotos.com\n",
      "bostonnorth.nextdoorphotos.com\n",
      "chicagonorth.nextdoorphotos.com\n",
      "siouxfalls.nextdoorphotos.com\n",
      "orlandonorth.nextdoorphotos.com\n",
      "montco.nextdoorphotos.com\n",
      "\n",
      "baltimorenortheast.nextdoorphotos.com\n",
      "tucson.nextdoorphotos.com\n",
      "littlerock.nextdoorphotos.com\n",
      "nashvillese.nextdoorphotos.com\n",
      "clearlake.nextdoorphotos.com\n",
      "denver.nextdoorphotos.com\n",
      "charleston.nextdoorphotos.com\n",
      "fortworth.nextdoorphotos.com\n",
      "twincities.nextdoorphotos.com\n"
     ]
    },
    {
     "name": "stderr",
     "output_type": "stream",
     "text": [
      "<ipython-input-44-5be205a765b6>:3: SettingWithCopyWarning: \n",
      "A value is trying to be set on a copy of a slice from a DataFrame\n",
      "\n",
      "See the caveats in the documentation: https://pandas.pydata.org/pandas-docs/stable/user_guide/indexing.html#returning-a-view-versus-a-copy\n",
      "  data['Status'][i] = i\n"
     ]
    }
   ],
   "source": [
    "for i in range(0,64):\n",
    "    print(data[0][i])\n",
    "    data['Status'][i] = i "
   ]
  },
  {
   "cell_type": "code",
   "execution_count": 50,
   "id": "66700d8d",
   "metadata": {},
   "outputs": [],
   "source": [
    "# data['Status']"
   ]
  },
  {
   "cell_type": "code",
   "execution_count": 46,
   "id": "4c239f08",
   "metadata": {},
   "outputs": [
    {
     "name": "stderr",
     "output_type": "stream",
     "text": [
      "<ipython-input-46-d299528af944>:8: SettingWithCopyWarning: \n",
      "A value is trying to be set on a copy of a slice from a DataFrame\n",
      "\n",
      "See the caveats in the documentation: https://pandas.pydata.org/pandas-docs/stable/user_guide/indexing.html#returning-a-view-versus-a-copy\n",
      "  data[0][i] = formaturl(data[0][i])\n"
     ]
    },
    {
     "data": {
      "text/plain": [
       "0        https://lakeshore.nextdoorphotos.com/\n",
       "1       https://grandrapids.nextdoorphotos.com\n",
       "2     https://oaklandcounty.nextdoorphotos.com\n",
       "3        https://naperville.nextdoorphotos.com\n",
       "4          https://michiana.nextdoorphotos.com\n",
       "                        ...                   \n",
       "60            http://denver.nextdoorphotos.com\n",
       "61        http://charleston.nextdoorphotos.com\n",
       "62         http://fortworth.nextdoorphotos.com\n",
       "63        http://twincities.nextdoorphotos.com\n",
       "64         http://northwest.nextdoorphotos.com\n",
       "Name: 0, Length: 65, dtype: object"
      ]
     },
     "execution_count": 46,
     "metadata": {},
     "output_type": "execute_result"
    }
   ],
   "source": [
    "import re\n",
    "def formaturl(url):\n",
    "    if not re.match('(?:http|ftp|https)://', url):\n",
    "        return 'http://{}'.format(url)\n",
    "    return url\n",
    "\n",
    "for i in range(65):\n",
    "    data[0][i] = formaturl(data[0][i])\n",
    "    \n",
    "data[0]"
   ]
  },
  {
   "cell_type": "code",
   "execution_count": 51,
   "id": "4337bd06",
   "metadata": {},
   "outputs": [
    {
     "name": "stdout",
     "output_type": "stream",
     "text": [
      "https://lakeshore.nextdoorphotos.com/\n"
     ]
    },
    {
     "name": "stderr",
     "output_type": "stream",
     "text": [
      "<ipython-input-51-37d0be8d6294>:14: SettingWithCopyWarning: \n",
      "A value is trying to be set on a copy of a slice from a DataFrame\n",
      "\n",
      "See the caveats in the documentation: https://pandas.pydata.org/pandas-docs/stable/user_guide/indexing.html#returning-a-view-versus-a-copy\n",
      "  data['Status'][i] = \"Working\"\n",
      "C:\\Users\\hp\\anaconda3\\lib\\site-packages\\pandas\\core\\indexing.py:1637: SettingWithCopyWarning: \n",
      "A value is trying to be set on a copy of a slice from a DataFrame\n",
      "\n",
      "See the caveats in the documentation: https://pandas.pydata.org/pandas-docs/stable/user_guide/indexing.html#returning-a-view-versus-a-copy\n",
      "  self._setitem_single_block(indexer, value, name)\n"
     ]
    },
    {
     "name": "stdout",
     "output_type": "stream",
     "text": [
      "https://grandrapids.nextdoorphotos.com\n",
      "https://oaklandcounty.nextdoorphotos.com\n",
      "https://naperville.nextdoorphotos.com\n",
      "https://michiana.nextdoorphotos.com\n",
      "https://a2wayne.nextdoorphotos.com\n",
      "https://noco.nextdoorphotos.com\n",
      "https://spacecoast.nextdoorphotos.com\n",
      "https://macomb.nextdoorphotos.com\n",
      "https://kanecounty.nextdoorphotos.com\n",
      "https://livingstonlansing.nextdoorphotos.com\n",
      "https://northtampa.nextdoorphotos.com\n",
      "https://contracosta.nextdoorphotos.com\n",
      "https://kzoo.nextdoorphotos.com\n",
      "http://northeastcharlotte.nextdoorphotos.com\n",
      "Encountered Some other execption\n",
      "http://traversecity.nextdoorphotos.com\n",
      "http://denverwest.nextdoorphotos.com\n",
      "https://livingstonlansing.nextdoorphotos.com isn't available.\n",
      "http://birmingham.nextdoorphotos.com\n",
      "http://omaha.nextdoorphotos.com\n",
      "http://houstonwest.nextdoorphotos.com\n",
      "http://atlantasouth.nextdoorphotos.com\n",
      "https://ottawaeast.nextdoorphotos.com/\n",
      "https://orlandonorth.nextdoorphotos.com/our-team/\n",
      "https://atlantaeast.nextdoorphotos.com\n",
      "http://denversouth.nextdoorphotos.com\n",
      "https://livingstonlansing.nextdoorphotos.com isn't available.\n",
      "http://toronto.nextdoorphotos.com\n",
      "http://alamedacounty.nextdoorphotos.com\n",
      "http://fredericksburg.nextdoorphotos.com\n",
      "http://raleigh.nextdoorphotos.com\n",
      "http://southshore.nextdoorphotos.com\n",
      "http://kc.nextdoorphotos.com\n",
      "https://livingstonlansing.nextdoorphotos.com isn't available.\n",
      "http://greatlakesbay.nextdoorphotos.com\n",
      "http://mrytlebeach.nextdoorphotos.com\n",
      "https://livingstonlansing.nextdoorphotos.com isn't available.\n",
      "http://susquehannavalley@nextdoorphotos.com\n",
      "http://goldsborofayetteville.nextdoorphotos.com\n",
      "http://dallassouth.nextdoorphotos.com\n",
      "http://woodlands.nextdoorphotos.com\n",
      "http://kanecounty.nextdoorphotos.com\n",
      "http://cincinnatiwest@nextdoorphotos.com\n",
      "http://nashvillesw.nextdoorphotos.com\n",
      "http://fortmyers.nextdoorphotos.com\n",
      "http://capecoral.nextdoorphotos.com\n",
      "http://virginiabeach.nextdoorphotos.com\n",
      "http://simivalley.nextdoorphotos.com\n",
      "http://seattle.nextdoorphotos.com\n",
      "http://dallasnorth.nextdoorphotos.com\n",
      "http://gilbert.nextdoorphotos.com\n",
      "http://traversecity.nextdoorphotos.com\n",
      "http://dorchester.nextdoorphotos.com\n",
      "https://livingstonlansing.nextdoorphotos.com isn't available.\n",
      "http://bostonnorth.nextdoorphotos.com\n",
      "http://chicagonorth.nextdoorphotos.com\n",
      "http://siouxfalls.nextdoorphotos.com\n",
      "http://orlandonorth.nextdoorphotos.com\n",
      "Encountered Some other execption\n",
      "http://baltimorenortheast.nextdoorphotos.com\n",
      "http://tucson.nextdoorphotos.com\n",
      "http://littlerock.nextdoorphotos.com\n",
      "http://nashvillese.nextdoorphotos.com\n",
      "http://clearlake.nextdoorphotos.com\n",
      "http://denver.nextdoorphotos.com\n",
      "http://charleston.nextdoorphotos.com\n",
      "http://fortworth.nextdoorphotos.com\n",
      "http://twincities.nextdoorphotos.com\n",
      "http://northwest.nextdoorphotos.com\n",
      "https://livingstonlansing.nextdoorphotos.com isn't available.\n"
     ]
    }
   ],
   "source": [
    "import socket\n",
    "socket.getaddrinfo('localhost', 8080)\n",
    "\n",
    "from selenium import webdriver\n",
    "chrome_driver_path = \"C:\\\\drivers\\\\chromedriver.exe\"\n",
    "driver=webdriver.Chrome(chrome_driver_path)\n",
    "import requests\n",
    "for i in range(65):\n",
    "    try:\n",
    "        r = requests.head(data[0][i])\n",
    "        print(data[0][i])\n",
    "        if r.status_code!=404:\n",
    "            driver.get(data[0][i])\n",
    "            data['Status'][i] = \"Working\"\n",
    "        else:\n",
    "            data['Status'][i] = \"Not Working\"\n",
    "            print(str(link) + \" isn't available.\")\n",
    "            \n",
    "    except requests.exceptions.MissingSchema:\n",
    "        data['Status'][i] = \"Encountered MissingSchema Exception\"\n",
    "        print(\"Encountered MissingSchema Exception\")\n",
    "        \n",
    "    except requests.exceptions.InvalidSchema:\n",
    "        data['Status'][i] = \"Encountered InvalidSchema Exception\"\n",
    "        print(\"Encountered InvalidSchema Exception\")\n",
    "        \n",
    "    except:\n",
    "        data['Status'][i] = \"Encountered Some other execption\"\n",
    "        print(\"Encountered Some other execption\")\n",
    "        "
   ]
  },
  {
   "cell_type": "code",
   "execution_count": 52,
   "id": "fffc442d",
   "metadata": {},
   "outputs": [
    {
     "data": {
      "text/html": [
       "<div>\n",
       "<style scoped>\n",
       "    .dataframe tbody tr th:only-of-type {\n",
       "        vertical-align: middle;\n",
       "    }\n",
       "\n",
       "    .dataframe tbody tr th {\n",
       "        vertical-align: top;\n",
       "    }\n",
       "\n",
       "    .dataframe thead th {\n",
       "        text-align: right;\n",
       "    }\n",
       "</style>\n",
       "<table border=\"1\" class=\"dataframe\">\n",
       "  <thead>\n",
       "    <tr style=\"text-align: right;\">\n",
       "      <th></th>\n",
       "      <th>0</th>\n",
       "      <th>Status</th>\n",
       "    </tr>\n",
       "  </thead>\n",
       "  <tbody>\n",
       "    <tr>\n",
       "      <th>0</th>\n",
       "      <td>https://lakeshore.nextdoorphotos.com/</td>\n",
       "      <td>Working</td>\n",
       "    </tr>\n",
       "    <tr>\n",
       "      <th>1</th>\n",
       "      <td>https://grandrapids.nextdoorphotos.com</td>\n",
       "      <td>Working</td>\n",
       "    </tr>\n",
       "    <tr>\n",
       "      <th>2</th>\n",
       "      <td>https://oaklandcounty.nextdoorphotos.com</td>\n",
       "      <td>Working</td>\n",
       "    </tr>\n",
       "    <tr>\n",
       "      <th>3</th>\n",
       "      <td>https://naperville.nextdoorphotos.com</td>\n",
       "      <td>Working</td>\n",
       "    </tr>\n",
       "    <tr>\n",
       "      <th>4</th>\n",
       "      <td>https://michiana.nextdoorphotos.com</td>\n",
       "      <td>Working</td>\n",
       "    </tr>\n",
       "    <tr>\n",
       "      <th>...</th>\n",
       "      <td>...</td>\n",
       "      <td>...</td>\n",
       "    </tr>\n",
       "    <tr>\n",
       "      <th>60</th>\n",
       "      <td>http://denver.nextdoorphotos.com</td>\n",
       "      <td>Working</td>\n",
       "    </tr>\n",
       "    <tr>\n",
       "      <th>61</th>\n",
       "      <td>http://charleston.nextdoorphotos.com</td>\n",
       "      <td>Working</td>\n",
       "    </tr>\n",
       "    <tr>\n",
       "      <th>62</th>\n",
       "      <td>http://fortworth.nextdoorphotos.com</td>\n",
       "      <td>Working</td>\n",
       "    </tr>\n",
       "    <tr>\n",
       "      <th>63</th>\n",
       "      <td>http://twincities.nextdoorphotos.com</td>\n",
       "      <td>Working</td>\n",
       "    </tr>\n",
       "    <tr>\n",
       "      <th>64</th>\n",
       "      <td>http://northwest.nextdoorphotos.com</td>\n",
       "      <td>Not Working</td>\n",
       "    </tr>\n",
       "  </tbody>\n",
       "</table>\n",
       "<p>65 rows × 2 columns</p>\n",
       "</div>"
      ],
      "text/plain": [
       "                                           0       Status\n",
       "0      https://lakeshore.nextdoorphotos.com/      Working\n",
       "1     https://grandrapids.nextdoorphotos.com      Working\n",
       "2   https://oaklandcounty.nextdoorphotos.com      Working\n",
       "3      https://naperville.nextdoorphotos.com      Working\n",
       "4        https://michiana.nextdoorphotos.com      Working\n",
       "..                                       ...          ...\n",
       "60          http://denver.nextdoorphotos.com      Working\n",
       "61      http://charleston.nextdoorphotos.com      Working\n",
       "62       http://fortworth.nextdoorphotos.com      Working\n",
       "63      http://twincities.nextdoorphotos.com      Working\n",
       "64       http://northwest.nextdoorphotos.com  Not Working\n",
       "\n",
       "[65 rows x 2 columns]"
      ]
     },
     "execution_count": 52,
     "metadata": {},
     "output_type": "execute_result"
    }
   ],
   "source": [
    "data"
   ]
  },
  {
   "cell_type": "code",
   "execution_count": 53,
   "id": "5662255c",
   "metadata": {},
   "outputs": [],
   "source": [
    "data.columns = ['urls', 'Status']"
   ]
  },
  {
   "cell_type": "code",
   "execution_count": 54,
   "id": "3a608984",
   "metadata": {},
   "outputs": [
    {
     "data": {
      "text/html": [
       "<div>\n",
       "<style scoped>\n",
       "    .dataframe tbody tr th:only-of-type {\n",
       "        vertical-align: middle;\n",
       "    }\n",
       "\n",
       "    .dataframe tbody tr th {\n",
       "        vertical-align: top;\n",
       "    }\n",
       "\n",
       "    .dataframe thead th {\n",
       "        text-align: right;\n",
       "    }\n",
       "</style>\n",
       "<table border=\"1\" class=\"dataframe\">\n",
       "  <thead>\n",
       "    <tr style=\"text-align: right;\">\n",
       "      <th></th>\n",
       "      <th>urls</th>\n",
       "      <th>Status</th>\n",
       "    </tr>\n",
       "  </thead>\n",
       "  <tbody>\n",
       "    <tr>\n",
       "      <th>0</th>\n",
       "      <td>https://lakeshore.nextdoorphotos.com/</td>\n",
       "      <td>Working</td>\n",
       "    </tr>\n",
       "    <tr>\n",
       "      <th>1</th>\n",
       "      <td>https://grandrapids.nextdoorphotos.com</td>\n",
       "      <td>Working</td>\n",
       "    </tr>\n",
       "    <tr>\n",
       "      <th>2</th>\n",
       "      <td>https://oaklandcounty.nextdoorphotos.com</td>\n",
       "      <td>Working</td>\n",
       "    </tr>\n",
       "    <tr>\n",
       "      <th>3</th>\n",
       "      <td>https://naperville.nextdoorphotos.com</td>\n",
       "      <td>Working</td>\n",
       "    </tr>\n",
       "    <tr>\n",
       "      <th>4</th>\n",
       "      <td>https://michiana.nextdoorphotos.com</td>\n",
       "      <td>Working</td>\n",
       "    </tr>\n",
       "    <tr>\n",
       "      <th>...</th>\n",
       "      <td>...</td>\n",
       "      <td>...</td>\n",
       "    </tr>\n",
       "    <tr>\n",
       "      <th>60</th>\n",
       "      <td>http://denver.nextdoorphotos.com</td>\n",
       "      <td>Working</td>\n",
       "    </tr>\n",
       "    <tr>\n",
       "      <th>61</th>\n",
       "      <td>http://charleston.nextdoorphotos.com</td>\n",
       "      <td>Working</td>\n",
       "    </tr>\n",
       "    <tr>\n",
       "      <th>62</th>\n",
       "      <td>http://fortworth.nextdoorphotos.com</td>\n",
       "      <td>Working</td>\n",
       "    </tr>\n",
       "    <tr>\n",
       "      <th>63</th>\n",
       "      <td>http://twincities.nextdoorphotos.com</td>\n",
       "      <td>Working</td>\n",
       "    </tr>\n",
       "    <tr>\n",
       "      <th>64</th>\n",
       "      <td>http://northwest.nextdoorphotos.com</td>\n",
       "      <td>Not Working</td>\n",
       "    </tr>\n",
       "  </tbody>\n",
       "</table>\n",
       "<p>65 rows × 2 columns</p>\n",
       "</div>"
      ],
      "text/plain": [
       "                                        urls       Status\n",
       "0      https://lakeshore.nextdoorphotos.com/      Working\n",
       "1     https://grandrapids.nextdoorphotos.com      Working\n",
       "2   https://oaklandcounty.nextdoorphotos.com      Working\n",
       "3      https://naperville.nextdoorphotos.com      Working\n",
       "4        https://michiana.nextdoorphotos.com      Working\n",
       "..                                       ...          ...\n",
       "60          http://denver.nextdoorphotos.com      Working\n",
       "61      http://charleston.nextdoorphotos.com      Working\n",
       "62       http://fortworth.nextdoorphotos.com      Working\n",
       "63      http://twincities.nextdoorphotos.com      Working\n",
       "64       http://northwest.nextdoorphotos.com  Not Working\n",
       "\n",
       "[65 rows x 2 columns]"
      ]
     },
     "execution_count": 54,
     "metadata": {},
     "output_type": "execute_result"
    }
   ],
   "source": [
    "data"
   ]
  },
  {
   "cell_type": "code",
   "execution_count": 55,
   "id": "e8dd9bfd",
   "metadata": {},
   "outputs": [],
   "source": [
    "data.to_excel(\"./checkBroken.xlsx\",index=False)"
   ]
  },
  {
   "cell_type": "code",
   "execution_count": 31,
   "id": "173bcdbe",
   "metadata": {},
   "outputs": [],
   "source": []
  },
  {
   "cell_type": "code",
   "execution_count": 35,
   "id": "9d15b49f",
   "metadata": {},
   "outputs": [
    {
     "data": {
      "text/plain": [
       "0         Working\n",
       "1         Working\n",
       "2         Working\n",
       "3         Working\n",
       "4         Working\n",
       "         ...     \n",
       "60        Working\n",
       "61        Working\n",
       "62        Working\n",
       "63        Working\n",
       "64    Not Working\n",
       "Name: 1, Length: 65, dtype: object"
      ]
     },
     "execution_count": 35,
     "metadata": {},
     "output_type": "execute_result"
    }
   ],
   "source": []
  },
  {
   "cell_type": "code",
   "execution_count": null,
   "id": "0826ff08",
   "metadata": {},
   "outputs": [],
   "source": []
  }
 ],
 "metadata": {
  "kernelspec": {
   "display_name": "Python 3",
   "language": "python",
   "name": "python3"
  },
  "language_info": {
   "codemirror_mode": {
    "name": "ipython",
    "version": 3
   },
   "file_extension": ".py",
   "mimetype": "text/x-python",
   "name": "python",
   "nbconvert_exporter": "python",
   "pygments_lexer": "ipython3",
   "version": "3.8.8"
  }
 },
 "nbformat": 4,
 "nbformat_minor": 5
}
