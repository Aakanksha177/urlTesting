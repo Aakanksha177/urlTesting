{
 "cells": [
  {
   "cell_type": "code",
   "execution_count": 1,
   "id": "860ac117",
   "metadata": {},
   "outputs": [],
   "source": [
    "import pandas as pd\n",
    "import numpy as np\n",
    "\n",
    "data = pd.read_excel('url_testing.xlsx',header=None)"
   ]
  },
  {
   "cell_type": "code",
   "execution_count": 2,
   "id": "97f4ef2d",
   "metadata": {},
   "outputs": [
    {
     "data": {
      "text/html": [
       "<div>\n",
       "<style scoped>\n",
       "    .dataframe tbody tr th:only-of-type {\n",
       "        vertical-align: middle;\n",
       "    }\n",
       "\n",
       "    .dataframe tbody tr th {\n",
       "        vertical-align: top;\n",
       "    }\n",
       "\n",
       "    .dataframe thead th {\n",
       "        text-align: right;\n",
       "    }\n",
       "</style>\n",
       "<table border=\"1\" class=\"dataframe\">\n",
       "  <thead>\n",
       "    <tr style=\"text-align: right;\">\n",
       "      <th></th>\n",
       "      <th>0</th>\n",
       "    </tr>\n",
       "  </thead>\n",
       "  <tbody>\n",
       "    <tr>\n",
       "      <th>0</th>\n",
       "      <td>https://lakeshore.nextdoorphotos.com/</td>\n",
       "    </tr>\n",
       "    <tr>\n",
       "      <th>1</th>\n",
       "      <td>https://grandrapids.nextdoorphotos.com</td>\n",
       "    </tr>\n",
       "    <tr>\n",
       "      <th>2</th>\n",
       "      <td>https://oaklandcounty.nextdoorphotos.com</td>\n",
       "    </tr>\n",
       "    <tr>\n",
       "      <th>3</th>\n",
       "      <td>https://naperville.nextdoorphotos.com</td>\n",
       "    </tr>\n",
       "    <tr>\n",
       "      <th>4</th>\n",
       "      <td>https://michiana.nextdoorphotos.com</td>\n",
       "    </tr>\n",
       "  </tbody>\n",
       "</table>\n",
       "</div>"
      ],
      "text/plain": [
       "                                          0\n",
       "0     https://lakeshore.nextdoorphotos.com/\n",
       "1    https://grandrapids.nextdoorphotos.com\n",
       "2  https://oaklandcounty.nextdoorphotos.com\n",
       "3     https://naperville.nextdoorphotos.com\n",
       "4       https://michiana.nextdoorphotos.com"
      ]
     },
     "execution_count": 2,
     "metadata": {},
     "output_type": "execute_result"
    }
   ],
   "source": [
    "data.head()"
   ]
  },
  {
   "cell_type": "code",
   "execution_count": 62,
   "id": "bb635aac",
   "metadata": {},
   "outputs": [],
   "source": [
    "data['Status'] = np.nan"
   ]
  },
  {
   "cell_type": "code",
   "execution_count": 63,
   "id": "f4a5db06",
   "metadata": {},
   "outputs": [
    {
     "name": "stderr",
     "output_type": "stream",
     "text": [
      "<ipython-input-63-ee81a61a96a5>:3: SettingWithCopyWarning: \n",
      "A value is trying to be set on a copy of a slice from a DataFrame\n",
      "\n",
      "See the caveats in the documentation: https://pandas.pydata.org/pandas-docs/stable/user_guide/indexing.html#returning-a-view-versus-a-copy\n",
      "  data['Status'][i] = i\n"
     ]
    }
   ],
   "source": [
    "for i in range(0,64):\n",
    "#     print(data[0][i])\n",
    "    data['Status'][i] = i "
   ]
  },
  {
   "cell_type": "code",
   "execution_count": 50,
   "id": "96db674e",
   "metadata": {},
   "outputs": [],
   "source": [
    "# data['Status']"
   ]
  },
  {
   "cell_type": "code",
   "execution_count": 64,
   "id": "89f4f632",
   "metadata": {},
   "outputs": [
    {
     "name": "stderr",
     "output_type": "stream",
     "text": [
      "<ipython-input-64-b433340e40df>:8: SettingWithCopyWarning: \n",
      "A value is trying to be set on a copy of a slice from a DataFrame\n",
      "\n",
      "See the caveats in the documentation: https://pandas.pydata.org/pandas-docs/stable/user_guide/indexing.html#returning-a-view-versus-a-copy\n",
      "  data[0][i] = formaturl(data[0][i])\n"
     ]
    }
   ],
   "source": [
    "import re\n",
    "def formaturl(url):\n",
    "    if not re.match('(?:http|ftp|https)://', url):\n",
    "        return 'http://{}'.format(url)\n",
    "    return url\n",
    "\n",
    "for i in range(65):\n",
    "    data[0][i] = formaturl(data[0][i])\n",
    "    "
   ]
  },
  {
   "cell_type": "code",
   "execution_count": null,
   "id": "acae5b26",
   "metadata": {},
   "outputs": [],
   "source": [
    "import socket\n",
    "socket.getaddrinfo('localhost', 8080)\n",
    "\n",
    "from selenium import webdriver\n",
    "chrome_driver_path = \"C:\\\\drivers\\\\chromedriver.exe\"\n",
    "driver=webdriver.Chrome(chrome_driver_path)\n",
    "import requests\n",
    "for i in range(65):\n",
    "    try:\n",
    "        r = requests.head(data[0][i])\n",
    "        if r.status_code!=404:\n",
    "            driver.get(data[0][i])\n",
    "            data['Status'][i] = \"Working\"\n",
    "        else:\n",
    "            data['Status'][i] = \"Not Working\"\n",
    "#             print(str(link) + \" isn't available.\")\n",
    "            \n",
    "    except requests.exceptions.MissingSchema:\n",
    "        data['Status'][i] = \"Encountered MissingSchema Exception\"\n",
    "#         print(\"Encountered MissingSchema Exception\")\n",
    "        \n",
    "    except requests.exceptions.InvalidSchema:\n",
    "        data['Status'][i] = \"Encountered InvalidSchema Exception\"\n",
    "#         print(\"Encountered InvalidSchema Exception\")\n",
    "        \n",
    "    except:\n",
    "        data['Status'][i] = \"Encountered Some other execption\"\n",
    "#         print(\"Encountered Some other execption\")\n",
    "        "
   ]
  },
  {
   "cell_type": "code",
   "execution_count": 56,
   "id": "dd1c1931",
   "metadata": {},
   "outputs": [],
   "source": [
    "# data"
   ]
  },
  {
   "cell_type": "code",
   "execution_count": 53,
   "id": "e4c04552",
   "metadata": {},
   "outputs": [],
   "source": [
    "data.columns = ['urls', 'Status']"
   ]
  },
  {
   "cell_type": "code",
   "execution_count": 54,
   "id": "5a251aa1",
   "metadata": {},
   "outputs": [
    {
     "data": {
      "text/html": [
       "<div>\n",
       "<style scoped>\n",
       "    .dataframe tbody tr th:only-of-type {\n",
       "        vertical-align: middle;\n",
       "    }\n",
       "\n",
       "    .dataframe tbody tr th {\n",
       "        vertical-align: top;\n",
       "    }\n",
       "\n",
       "    .dataframe thead th {\n",
       "        text-align: right;\n",
       "    }\n",
       "</style>\n",
       "<table border=\"1\" class=\"dataframe\">\n",
       "  <thead>\n",
       "    <tr style=\"text-align: right;\">\n",
       "      <th></th>\n",
       "      <th>urls</th>\n",
       "      <th>Status</th>\n",
       "    </tr>\n",
       "  </thead>\n",
       "  <tbody>\n",
       "    <tr>\n",
       "      <th>0</th>\n",
       "      <td>https://lakeshore.nextdoorphotos.com/</td>\n",
       "      <td>Working</td>\n",
       "    </tr>\n",
       "    <tr>\n",
       "      <th>1</th>\n",
       "      <td>https://grandrapids.nextdoorphotos.com</td>\n",
       "      <td>Working</td>\n",
       "    </tr>\n",
       "    <tr>\n",
       "      <th>2</th>\n",
       "      <td>https://oaklandcounty.nextdoorphotos.com</td>\n",
       "      <td>Working</td>\n",
       "    </tr>\n",
       "    <tr>\n",
       "      <th>3</th>\n",
       "      <td>https://naperville.nextdoorphotos.com</td>\n",
       "      <td>Working</td>\n",
       "    </tr>\n",
       "    <tr>\n",
       "      <th>4</th>\n",
       "      <td>https://michiana.nextdoorphotos.com</td>\n",
       "      <td>Working</td>\n",
       "    </tr>\n",
       "    <tr>\n",
       "      <th>...</th>\n",
       "      <td>...</td>\n",
       "      <td>...</td>\n",
       "    </tr>\n",
       "    <tr>\n",
       "      <th>60</th>\n",
       "      <td>http://denver.nextdoorphotos.com</td>\n",
       "      <td>Working</td>\n",
       "    </tr>\n",
       "    <tr>\n",
       "      <th>61</th>\n",
       "      <td>http://charleston.nextdoorphotos.com</td>\n",
       "      <td>Working</td>\n",
       "    </tr>\n",
       "    <tr>\n",
       "      <th>62</th>\n",
       "      <td>http://fortworth.nextdoorphotos.com</td>\n",
       "      <td>Working</td>\n",
       "    </tr>\n",
       "    <tr>\n",
       "      <th>63</th>\n",
       "      <td>http://twincities.nextdoorphotos.com</td>\n",
       "      <td>Working</td>\n",
       "    </tr>\n",
       "    <tr>\n",
       "      <th>64</th>\n",
       "      <td>http://northwest.nextdoorphotos.com</td>\n",
       "      <td>Not Working</td>\n",
       "    </tr>\n",
       "  </tbody>\n",
       "</table>\n",
       "<p>65 rows × 2 columns</p>\n",
       "</div>"
      ],
      "text/plain": [
       "                                        urls       Status\n",
       "0      https://lakeshore.nextdoorphotos.com/      Working\n",
       "1     https://grandrapids.nextdoorphotos.com      Working\n",
       "2   https://oaklandcounty.nextdoorphotos.com      Working\n",
       "3      https://naperville.nextdoorphotos.com      Working\n",
       "4        https://michiana.nextdoorphotos.com      Working\n",
       "..                                       ...          ...\n",
       "60          http://denver.nextdoorphotos.com      Working\n",
       "61      http://charleston.nextdoorphotos.com      Working\n",
       "62       http://fortworth.nextdoorphotos.com      Working\n",
       "63      http://twincities.nextdoorphotos.com      Working\n",
       "64       http://northwest.nextdoorphotos.com  Not Working\n",
       "\n",
       "[65 rows x 2 columns]"
      ]
     },
     "execution_count": 54,
     "metadata": {},
     "output_type": "execute_result"
    }
   ],
   "source": [
    "data"
   ]
  },
  {
   "cell_type": "code",
   "execution_count": 55,
   "id": "c19e4eba",
   "metadata": {},
   "outputs": [],
   "source": [
    "data.to_excel(\"./checkBroken.xlsx\",index=False)"
   ]
  },
  {
   "cell_type": "code",
   "execution_count": 31,
   "id": "a4293fb0",
   "metadata": {},
   "outputs": [],
   "source": []
  },
  {
   "cell_type": "code",
   "execution_count": null,
   "id": "d1ef9e15",
   "metadata": {},
   "outputs": [],
   "source": []
  },
  {
   "cell_type": "code",
   "execution_count": null,
   "id": "a2f83fff",
   "metadata": {},
   "outputs": [],
   "source": []
  }
 ],
 "metadata": {
  "kernelspec": {
   "display_name": "Python 3",
   "language": "python",
   "name": "python3"
  },
  "language_info": {
   "codemirror_mode": {
    "name": "ipython",
    "version": 3
   },
   "file_extension": ".py",
   "mimetype": "text/x-python",
   "name": "python",
   "nbconvert_exporter": "python",
   "pygments_lexer": "ipython3",
   "version": "3.8.8"
  }
 },
 "nbformat": 4,
 "nbformat_minor": 5
}
